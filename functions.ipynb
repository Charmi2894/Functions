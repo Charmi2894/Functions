{
  "nbformat": 4,
  "nbformat_minor": 0,
  "metadata": {
    "colab": {
      "provenance": []
    },
    "kernelspec": {
      "name": "python3",
      "display_name": "Python 3"
    },
    "language_info": {
      "name": "python"
    }
  },
  "cells": [
    {
      "cell_type": "markdown",
      "source": [
        "#FUNCTIONS"
      ],
      "metadata": {
        "id": "JJPgH2MuWCmy"
      }
    },
    {
      "cell_type": "markdown",
      "source": [
        "# Theory Questions"
      ],
      "metadata": {
        "id": "VXQtEPlBWY7H"
      }
    },
    {
      "cell_type": "markdown",
      "source": [
        " 1. What is the difference between a function and a method in Python?\n",
        "  - Function is called using function name where as method is called with instance of an object.\n",
        "  - Function is defined outside of the class and method is defined inside the class.\n",
        "  - Functions do not have access to a specific content while method have access to the instance attributes and context."
      ],
      "metadata": {
        "id": "oP-d9UfWWc2o"
      }
    },
    {
      "cell_type": "code",
      "source": [
        "# Example of question 1\n",
        "#Function\n",
        "def greet():\n",
        "  print(\"Hello welcome\")\n",
        "greet()\n",
        "#method\n",
        "string = \"Hello\"\n",
        "print(string.upper())\n",
        "# upper() is method"
      ],
      "metadata": {
        "colab": {
          "base_uri": "https://localhost:8080/"
        },
        "id": "L_3ERKD9Xjkj",
        "outputId": "b097487a-5eec-4a9c-8902-0f47a74a0eff"
      },
      "execution_count": null,
      "outputs": [
        {
          "output_type": "stream",
          "name": "stdout",
          "text": [
            "Hello welcome\n",
            "HELLO\n"
          ]
        }
      ]
    },
    {
      "cell_type": "markdown",
      "source": [
        "2. Explain the concept of function arguments and parameters in Python.\n",
        "  - Function Arguments:-\n",
        "    - Arguments are used pass values to a function when it is called.\n",
        "  - Function Parameters:-\n",
        "    - Parameters are used pass variabled to a function when it is called."
      ],
      "metadata": {
        "id": "S945GPWmZD_1"
      }
    },
    {
      "cell_type": "code",
      "source": [
        "# Example of Question 2\n",
        "def add(a,b):\n",
        "  print(a+b)\n",
        "#Arguments\n",
        "add(1,2)\n",
        "add(a=2,b=3)\n",
        "#parameters\n",
        "def subtract(a=2,b=1):\n",
        "  print(a-b)\n",
        "subtract()"
      ],
      "metadata": {
        "colab": {
          "base_uri": "https://localhost:8080/"
        },
        "id": "wH8tR11GZ_Jy",
        "outputId": "2ef76f52-d8ad-413d-8a8e-eb0fabfd1101"
      },
      "execution_count": null,
      "outputs": [
        {
          "output_type": "stream",
          "name": "stdout",
          "text": [
            "3\n",
            "5\n",
            "1\n"
          ]
        }
      ]
    },
    {
      "cell_type": "code",
      "source": [
        "#  3. What are the different ways to define and call a function in Python?\n",
        "# 1. Basic Function Definition and call\n",
        "def my_name(name):\n",
        "  print(f\"Hello,{name}!\")\n",
        "print(\"Function 1\")\n",
        "my_name(\"charmi\")\n",
        "\n",
        "# 2. Function with default argument values\n",
        "def my_details(name,age=20):\n",
        "  print(f\"Hello {name}, You are {age} years old.\")\n",
        "print(\"Function 2\")\n",
        "my_details(\"charmi\")\n",
        "\n",
        "# 3. Function with Arbitary Positional Arguments\n",
        "def names(*args):\n",
        "  for name in args:\n",
        "    print(f\"Hello {name}\")\n",
        "print(\"Function 3\")\n",
        "names(\"ABC\",\"XYZ\",\"DEF\")\n",
        "\n",
        "# 4. Functions with arbitary keyword arguments\n",
        "def name_age(**kwargs):\n",
        "  for name,age in kwargs.items():\n",
        "    print(f\"Name : {name}, Age : {age}\")\n",
        "print(\"Function 4\")\n",
        "name_age(abc=21,xyz=21)\n",
        "\n",
        "# 5. Function with both positional and keyword arguments\n",
        "def greeting(name,*args,**kwargs):\n",
        "  print(f\"Hello {name}\")\n",
        "  for arg in args:\n",
        "    print(f\"Hello {name}\")\n",
        "  for key,value in kwargs.items():\n",
        "    print(f\"{key}: {value}\")\n",
        "print(\"Function 5\")\n",
        "greeting(\"Charmi\",\"Swarup\",age=21,country=\"India\")\n",
        "\n",
        "#6. Function call with keyword arguments\n",
        "def details(name,age):\n",
        "  print(f\"hello {name} your age is {age}\")\n",
        "print(\"Function 6\")\n",
        "details(name=\"Charmi\", age=21)"
      ],
      "metadata": {
        "colab": {
          "base_uri": "https://localhost:8080/"
        },
        "id": "l8M966zQbVmr",
        "outputId": "e75dd6ef-ccc4-4286-cb9f-f070537da978"
      },
      "execution_count": null,
      "outputs": [
        {
          "output_type": "stream",
          "name": "stdout",
          "text": [
            "Function 1\n",
            "Hello,charmi!\n",
            "Function 2\n",
            "Hello charmi, You are 20 years old.\n",
            "Function 3\n",
            "Hello ABC\n",
            "Hello XYZ\n",
            "Hello DEF\n",
            "Function 4\n",
            "Name : abc, Age : 21\n",
            "Name : xyz, Age : 21\n",
            "Function 5\n",
            "Hello Charmi\n",
            "Hello Charmi\n",
            "age: 21\n",
            "country: India\n",
            "Function 6\n",
            "hello Charmi your age is 21\n"
          ]
        }
      ]
    },
    {
      "cell_type": "markdown",
      "source": [
        " 4. What is the purpose of the `return` statement in a Python function?\n",
        "  - 'return' keyword is used to return the value of the function and get an exit from a function"
      ],
      "metadata": {
        "id": "YIj_0_XVhG0U"
      }
    },
    {
      "cell_type": "code",
      "source": [
        "# Example of question 4\n",
        "def odd_even(num):\n",
        "  if num%2==0:\n",
        "    return 0\n",
        "  else:\n",
        "    return 1\n",
        "result = odd_even(1)\n",
        "if result == 0:\n",
        "  print(\"Even Number\")\n",
        "else:\n",
        "  print(\"Odd Number\")"
      ],
      "metadata": {
        "colab": {
          "base_uri": "https://localhost:8080/"
        },
        "id": "Ezsl9ReVhboe",
        "outputId": "00576cce-869e-4e79-84d0-3e68bbffb40d"
      },
      "execution_count": null,
      "outputs": [
        {
          "output_type": "stream",
          "name": "stdout",
          "text": [
            "Odd Number\n"
          ]
        }
      ]
    },
    {
      "cell_type": "markdown",
      "source": [
        "5. What are iterators in Python and how do they differ from iterables?\n",
        "  - Iterators:-\n",
        "    - An iterator is an object that keeps track of this position in a sequence and returns the next element each time it is called.\n",
        "    - An iterator is created using the iter() function or by calling _iter_() method on an iterable.\n",
        "  - Differences:-\n",
        "    - An iterable can be iterated mutiple times, while and iterator can only be iterated over once.\n",
        "    - An iterator keeps track of its position in a sequence, while an iterable does not."
      ],
      "metadata": {
        "id": "zO7tvx8EiFF1"
      }
    },
    {
      "cell_type": "code",
      "source": [
        "#Example of Question 5\n",
        "lst = [1,2,3]\n",
        "lst_iterator = iter(lst)\n",
        "print(lst_iterator)\n",
        "print(next(lst_iterator))\n",
        "print(next(lst_iterator))\n",
        "print(next(lst_iterator))"
      ],
      "metadata": {
        "colab": {
          "base_uri": "https://localhost:8080/"
        },
        "id": "qbpF-GqglbC9",
        "outputId": "10d3a675-cc70-428f-c789-9d6336e5c3be"
      },
      "execution_count": null,
      "outputs": [
        {
          "output_type": "stream",
          "name": "stdout",
          "text": [
            "<list_iterator object at 0x7f5c6d9e9600>\n",
            "1\n",
            "2\n",
            "3\n"
          ]
        }
      ]
    },
    {
      "cell_type": "markdown",
      "source": [
        "6. Explain the concept of generators in Python and how they are defined.\n",
        "  - Generator functions in Python are a way to create iterators in a more concise and memory-efficient manner.\n",
        "  - Generators are defined using functions that contain the yeild keyword.\n",
        "  - When a generator function is called, it returns a generator iterator that can be used to iterate over a sequence of values."
      ],
      "metadata": {
        "id": "inU3DgTSlzy9"
      }
    },
    {
      "cell_type": "code",
      "source": [
        "# Example of question 6\n",
        "def sequence():\n",
        "  num=1\n",
        "  while True:\n",
        "    yield num\n",
        "    num += 1\n",
        "gen = sequence()\n",
        "print(gen)\n",
        "print(next(gen))\n",
        "print(next(gen))\n",
        "print(next(gen))"
      ],
      "metadata": {
        "colab": {
          "base_uri": "https://localhost:8080/"
        },
        "id": "4TdTQR7FmpGR",
        "outputId": "115d8613-d482-4906-f3e0-2e25453968a1"
      },
      "execution_count": null,
      "outputs": [
        {
          "output_type": "stream",
          "name": "stdout",
          "text": [
            "<generator object sequence at 0x7f5c6d865cc0>\n",
            "1\n",
            "2\n",
            "3\n"
          ]
        }
      ]
    },
    {
      "cell_type": "markdown",
      "source": [
        " 7. What are the advantages of using generators over regular functions?\n",
        "  - Memory Efficiency : Generator functions use less memory than regular functions because they don't store the entire sequence in memory.\n",
        "  - Lazy Evaluation : Generator functions only compute values when they're needed.\n",
        "  - Flexibility : Generator functions can be used to create infinite sequences that are too large to fit in memory.\n",
        "  - Better handling of large data."
      ],
      "metadata": {
        "id": "pcWdEodpnHQI"
      }
    },
    {
      "cell_type": "code",
      "source": [
        "#Example of question 7\n",
        "sq_gen = (x**2 for x in range(10))\n",
        "for square in sq_gen:\n",
        "  print(square)"
      ],
      "metadata": {
        "colab": {
          "base_uri": "https://localhost:8080/"
        },
        "id": "wSv1SrbCoZDP",
        "outputId": "1268f7c4-8a8f-40e9-880f-ce173cdbb2ec"
      },
      "execution_count": null,
      "outputs": [
        {
          "output_type": "stream",
          "name": "stdout",
          "text": [
            "0\n",
            "1\n",
            "4\n",
            "9\n",
            "16\n",
            "25\n",
            "36\n",
            "49\n",
            "64\n",
            "81\n"
          ]
        }
      ]
    },
    {
      "cell_type": "markdown",
      "source": [
        "8. What is a lambda function in Python and when is it typically used?\n",
        "  - A lambda function in Python is a concise way to create anonymous functions, also known as lambda expressions.\n",
        "  - It is used when there are higher-order functions, event handling, data processing and one-time use function."
      ],
      "metadata": {
        "id": "eNlNj2w6pAHg"
      }
    },
    {
      "cell_type": "code",
      "source": [
        "# Example of question 8\n",
        "sum_of_num = (lambda x,y:x+y)\n",
        "print(sum_of_num(5,3))"
      ],
      "metadata": {
        "colab": {
          "base_uri": "https://localhost:8080/"
        },
        "id": "Y4Kk7zd9ppQN",
        "outputId": "53da3259-21b0-4abc-eebb-c219b0f36e74"
      },
      "execution_count": null,
      "outputs": [
        {
          "output_type": "stream",
          "name": "stdout",
          "text": [
            "8\n"
          ]
        }
      ]
    },
    {
      "cell_type": "markdown",
      "source": [
        " 9. Explain the purpose and usage of the `map()` function in Python.\n",
        "  - Purpose:-\n",
        "    - The map() function applies a given function to each item of an iterable and returns a map object.\n",
        "  - Usage:-\n",
        "    - The general syntax of map() is map(function,iterable).\n",
        "    - Where function is the applied function for each item of the iterable.\n",
        "    - iterable is the iterable that we need to process."
      ],
      "metadata": {
        "id": "D8-Hx6l7qJYC"
      }
    },
    {
      "cell_type": "code",
      "source": [
        "# Example of question 9\n",
        "def squared_num(x):\n",
        "  return x**2\n",
        "num = [1,2,3]\n",
        "sq_number = list(map(squared_num,num))\n",
        "print(sq_number)"
      ],
      "metadata": {
        "colab": {
          "base_uri": "https://localhost:8080/"
        },
        "id": "QEC_22EBrKgV",
        "outputId": "72e6ba91-7375-43a9-cc07-9f6e49cc03d8"
      },
      "execution_count": null,
      "outputs": [
        {
          "output_type": "stream",
          "name": "stdout",
          "text": [
            "[1, 4, 9]\n"
          ]
        }
      ]
    },
    {
      "cell_type": "markdown",
      "source": [
        " 10. What is the difference between `map()`, `reduce()`, and `filter()` functions in Python?\n",
        "  - Map() : Applies a function to each item of an iterable and returns a new iterable with the same number of items.\n",
        "  - Filter() : Filters items from an iterable based on a condition and returns a new iterable with a subset of the original items.\n",
        "  - Reduce() : Reduces an iterable to a single output value by applying a function to the items."
      ],
      "metadata": {
        "id": "lCFSUujUr0L1"
      }
    },
    {
      "cell_type": "code",
      "source": [
        "#Example of question 10\n",
        "from functools import reduce\n",
        "number = [1,2,3,4,5]\n",
        "#map()\n",
        "sq = list(map(lambda x: x**2,number))\n",
        "print(sq)\n",
        "#filter()\n",
        "even = list(filter(lambda c:c%2==0,number))\n",
        "print(even)\n",
        "#reduce\n",
        "sum_num = reduce(lambda a,b:a+b,number)\n",
        "print(sum_num)"
      ],
      "metadata": {
        "colab": {
          "base_uri": "https://localhost:8080/"
        },
        "id": "jD1O5th2s7_x",
        "outputId": "f6e8eb6f-c3bf-4050-8aae-3792cd7b291a"
      },
      "execution_count": null,
      "outputs": [
        {
          "output_type": "stream",
          "name": "stdout",
          "text": [
            "[1, 4, 9, 16, 25]\n",
            "[2, 4]\n",
            "15\n"
          ]
        }
      ]
    },
    {
      "cell_type": "markdown",
      "source": [
        "11. Using pen & Paper write the internal mechanism for sum operation using  reduce function on this given  list:[47,11,42,13]\n",
        "![Q11_Steps.jpg](data:image/jpeg;base64,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)"
      ],
      "metadata": {
        "id": "9nQgc6LouOaN"
      }
    },
    {
      "cell_type": "code",
      "source": [
        "#Example of question 11\n",
        "from functools import reduce\n",
        "numbers = [47, 11, 42, 13]\n",
        "result = reduce(lambda x, y: x + y, numbers)\n",
        "print(result)"
      ],
      "metadata": {
        "colab": {
          "base_uri": "https://localhost:8080/"
        },
        "id": "fiKA-cPGu_gh",
        "outputId": "271854df-1b86-4c5e-f324-aceb0977c528"
      },
      "execution_count": 22,
      "outputs": [
        {
          "output_type": "stream",
          "name": "stdout",
          "text": [
            "113\n"
          ]
        }
      ]
    },
    {
      "cell_type": "markdown",
      "source": [
        "# Practical Questions"
      ],
      "metadata": {
        "id": "YPrOm8d5v5Bt"
      }
    },
    {
      "cell_type": "code",
      "source": [
        "#1. Write a Python function that takes a list of numbers as input and returns the sum of all even numbers in the list.\n",
        "def sum_even(*nums):\n",
        "    return sum(no for no in nums if no % 2 == 0)\n",
        "def get_input():\n",
        "    numbers = int(input(\"Enter numbers separated by space: \"))\n",
        "    return list(range(1, numbers + 1))\n",
        "numbers = get_input()\n",
        "res = sum_even(*numbers)\n",
        "print(\"Sum of even numbers:\", res)"
      ],
      "metadata": {
        "id": "M2cET8Ztv-KR",
        "colab": {
          "base_uri": "https://localhost:8080/"
        },
        "outputId": "a7462ea3-559b-4265-f48d-731b82b91066"
      },
      "execution_count": 1,
      "outputs": [
        {
          "output_type": "stream",
          "name": "stdout",
          "text": [
            "Enter numbers separated by space: 5\n",
            "Sum of even numbers: 6\n"
          ]
        }
      ]
    },
    {
      "cell_type": "code",
      "source": [
        "#  2. Create a Python function that accepts a string and returns the reverse of that string.\n",
        "string = \"olleh\"\n",
        "def str_rev(str1):\n",
        "    return str1[::-1]\n",
        "s=str_rev(string)\n",
        "print(s)"
      ],
      "metadata": {
        "colab": {
          "base_uri": "https://localhost:8080/"
        },
        "id": "h8la6Y__akle",
        "outputId": "30dafe23-ba27-4c72-b85f-eae9bac2efa5"
      },
      "execution_count": 2,
      "outputs": [
        {
          "output_type": "stream",
          "name": "stdout",
          "text": [
            "hello\n"
          ]
        }
      ]
    },
    {
      "cell_type": "code",
      "source": [
        "# 3. Implement a Python function that takes a list of integers and returns a new list containing the squares of each number.\n",
        "lst1=[1,2,3,4]\n",
        "def new_list(lst):\n",
        "    return [num ** 2 for num in lst]\n",
        "sq_list = new_list(lst1)\n",
        "print(\"Squared List:\",sq_list)"
      ],
      "metadata": {
        "colab": {
          "base_uri": "https://localhost:8080/"
        },
        "id": "0Hgh9KxCap02",
        "outputId": "b9488526-eff4-437e-da36-4b4df754c26b"
      },
      "execution_count": 3,
      "outputs": [
        {
          "output_type": "stream",
          "name": "stdout",
          "text": [
            "Squared List: [1, 4, 9, 16]\n"
          ]
        }
      ]
    },
    {
      "cell_type": "code",
      "source": [
        "# 4. Write a Python function that checks if a given number is prime or not from 1 to 200.\n",
        "import math\n",
        "def prime_no(n):\n",
        "    if n<=1:\n",
        "        return False\n",
        "    for i in range(2,int(math.sqrt(n))+1):\n",
        "        if n%i==0:\n",
        "            return False\n",
        "    return True\n",
        "for num in range(1,201):\n",
        "    if prime_no(num):\n",
        "        print(num)"
      ],
      "metadata": {
        "colab": {
          "base_uri": "https://localhost:8080/"
        },
        "id": "fcN3RJyBavOJ",
        "outputId": "9211f4ef-bf12-4d36-f337-26c57c917c82"
      },
      "execution_count": 4,
      "outputs": [
        {
          "output_type": "stream",
          "name": "stdout",
          "text": [
            "2\n",
            "3\n",
            "5\n",
            "7\n",
            "11\n",
            "13\n",
            "17\n",
            "19\n",
            "23\n",
            "29\n",
            "31\n",
            "37\n",
            "41\n",
            "43\n",
            "47\n",
            "53\n",
            "59\n",
            "61\n",
            "67\n",
            "71\n",
            "73\n",
            "79\n",
            "83\n",
            "89\n",
            "97\n",
            "101\n",
            "103\n",
            "107\n",
            "109\n",
            "113\n",
            "127\n",
            "131\n",
            "137\n",
            "139\n",
            "149\n",
            "151\n",
            "157\n",
            "163\n",
            "167\n",
            "173\n",
            "179\n",
            "181\n",
            "191\n",
            "193\n",
            "197\n",
            "199\n"
          ]
        }
      ]
    },
    {
      "cell_type": "code",
      "source": [
        "#5. Create an iterator class in Python that generates the Fibonacci sequence up to a specified number of terms.\n",
        "def fibonacci():\n",
        "    a,b = 0,1\n",
        "    while True:\n",
        "        yield a\n",
        "        a,b = b,a+b\n",
        "fib = fibonacci()\n",
        "fib_iter = iter(fib)\n",
        "for _ in range(10):\n",
        "    print(next(fib_iter))"
      ],
      "metadata": {
        "colab": {
          "base_uri": "https://localhost:8080/"
        },
        "id": "HL3BygALa0aK",
        "outputId": "e50a69a9-2320-43bb-9d4a-31ef9031e216"
      },
      "execution_count": 5,
      "outputs": [
        {
          "output_type": "stream",
          "name": "stdout",
          "text": [
            "0\n",
            "1\n",
            "1\n",
            "2\n",
            "3\n",
            "5\n",
            "8\n",
            "13\n",
            "21\n",
            "34\n"
          ]
        }
      ]
    },
    {
      "cell_type": "code",
      "source": [
        "# 6. Write a generator function in Python that yields the powers of 2 up to a given exponent.\n",
        "def gen_power(n):\n",
        "    for i in range(n + 1):\n",
        "        yield 2 ** i\n",
        "for num in gen_power(5):\n",
        "    print(num)"
      ],
      "metadata": {
        "colab": {
          "base_uri": "https://localhost:8080/"
        },
        "id": "qiB5D1ika5Aa",
        "outputId": "cc18c4f9-85fa-42b1-c1f1-4534f2eb9515"
      },
      "execution_count": 6,
      "outputs": [
        {
          "output_type": "stream",
          "name": "stdout",
          "text": [
            "1\n",
            "2\n",
            "4\n",
            "8\n",
            "16\n",
            "32\n"
          ]
        }
      ]
    },
    {
      "cell_type": "code",
      "source": [
        "# 7. Implement a generator function that reads a file line by line and yields each line as a string.\n",
        "from google.colab import files\n",
        "uploaded = files.upload()\n",
        "filename = next(iter(uploaded))\n",
        "def read_file_line_by_line(file_path):\n",
        "    with open(file_path, 'r') as file:\n",
        "        for line in file:\n",
        "            yield line.strip()\n",
        "for line in read_file_line_by_line(filename):\n",
        "    print(line)"
      ],
      "metadata": {
        "colab": {
          "base_uri": "https://localhost:8080/",
          "height": 90
        },
        "id": "CL-Ziik4a-f_",
        "outputId": "13636eac-5fb6-4822-e11a-4f40fea06f63"
      },
      "execution_count": 12,
      "outputs": [
        {
          "output_type": "display_data",
          "data": {
            "text/plain": [
              "<IPython.core.display.HTML object>"
            ],
            "text/html": [
              "\n",
              "     <input type=\"file\" id=\"files-9bdee764-9439-4243-a86a-04a3bdbb4d67\" name=\"files[]\" multiple disabled\n",
              "        style=\"border:none\" />\n",
              "     <output id=\"result-9bdee764-9439-4243-a86a-04a3bdbb4d67\">\n",
              "      Upload widget is only available when the cell has been executed in the\n",
              "      current browser session. Please rerun this cell to enable.\n",
              "      </output>\n",
              "      <script>// Copyright 2017 Google LLC\n",
              "//\n",
              "// Licensed under the Apache License, Version 2.0 (the \"License\");\n",
              "// you may not use this file except in compliance with the License.\n",
              "// You may obtain a copy of the License at\n",
              "//\n",
              "//      http://www.apache.org/licenses/LICENSE-2.0\n",
              "//\n",
              "// Unless required by applicable law or agreed to in writing, software\n",
              "// distributed under the License is distributed on an \"AS IS\" BASIS,\n",
              "// WITHOUT WARRANTIES OR CONDITIONS OF ANY KIND, either express or implied.\n",
              "// See the License for the specific language governing permissions and\n",
              "// limitations under the License.\n",
              "\n",
              "/**\n",
              " * @fileoverview Helpers for google.colab Python module.\n",
              " */\n",
              "(function(scope) {\n",
              "function span(text, styleAttributes = {}) {\n",
              "  const element = document.createElement('span');\n",
              "  element.textContent = text;\n",
              "  for (const key of Object.keys(styleAttributes)) {\n",
              "    element.style[key] = styleAttributes[key];\n",
              "  }\n",
              "  return element;\n",
              "}\n",
              "\n",
              "// Max number of bytes which will be uploaded at a time.\n",
              "const MAX_PAYLOAD_SIZE = 100 * 1024;\n",
              "\n",
              "function _uploadFiles(inputId, outputId) {\n",
              "  const steps = uploadFilesStep(inputId, outputId);\n",
              "  const outputElement = document.getElementById(outputId);\n",
              "  // Cache steps on the outputElement to make it available for the next call\n",
              "  // to uploadFilesContinue from Python.\n",
              "  outputElement.steps = steps;\n",
              "\n",
              "  return _uploadFilesContinue(outputId);\n",
              "}\n",
              "\n",
              "// This is roughly an async generator (not supported in the browser yet),\n",
              "// where there are multiple asynchronous steps and the Python side is going\n",
              "// to poll for completion of each step.\n",
              "// This uses a Promise to block the python side on completion of each step,\n",
              "// then passes the result of the previous step as the input to the next step.\n",
              "function _uploadFilesContinue(outputId) {\n",
              "  const outputElement = document.getElementById(outputId);\n",
              "  const steps = outputElement.steps;\n",
              "\n",
              "  const next = steps.next(outputElement.lastPromiseValue);\n",
              "  return Promise.resolve(next.value.promise).then((value) => {\n",
              "    // Cache the last promise value to make it available to the next\n",
              "    // step of the generator.\n",
              "    outputElement.lastPromiseValue = value;\n",
              "    return next.value.response;\n",
              "  });\n",
              "}\n",
              "\n",
              "/**\n",
              " * Generator function which is called between each async step of the upload\n",
              " * process.\n",
              " * @param {string} inputId Element ID of the input file picker element.\n",
              " * @param {string} outputId Element ID of the output display.\n",
              " * @return {!Iterable<!Object>} Iterable of next steps.\n",
              " */\n",
              "function* uploadFilesStep(inputId, outputId) {\n",
              "  const inputElement = document.getElementById(inputId);\n",
              "  inputElement.disabled = false;\n",
              "\n",
              "  const outputElement = document.getElementById(outputId);\n",
              "  outputElement.innerHTML = '';\n",
              "\n",
              "  const pickedPromise = new Promise((resolve) => {\n",
              "    inputElement.addEventListener('change', (e) => {\n",
              "      resolve(e.target.files);\n",
              "    });\n",
              "  });\n",
              "\n",
              "  const cancel = document.createElement('button');\n",
              "  inputElement.parentElement.appendChild(cancel);\n",
              "  cancel.textContent = 'Cancel upload';\n",
              "  const cancelPromise = new Promise((resolve) => {\n",
              "    cancel.onclick = () => {\n",
              "      resolve(null);\n",
              "    };\n",
              "  });\n",
              "\n",
              "  // Wait for the user to pick the files.\n",
              "  const files = yield {\n",
              "    promise: Promise.race([pickedPromise, cancelPromise]),\n",
              "    response: {\n",
              "      action: 'starting',\n",
              "    }\n",
              "  };\n",
              "\n",
              "  cancel.remove();\n",
              "\n",
              "  // Disable the input element since further picks are not allowed.\n",
              "  inputElement.disabled = true;\n",
              "\n",
              "  if (!files) {\n",
              "    return {\n",
              "      response: {\n",
              "        action: 'complete',\n",
              "      }\n",
              "    };\n",
              "  }\n",
              "\n",
              "  for (const file of files) {\n",
              "    const li = document.createElement('li');\n",
              "    li.append(span(file.name, {fontWeight: 'bold'}));\n",
              "    li.append(span(\n",
              "        `(${file.type || 'n/a'}) - ${file.size} bytes, ` +\n",
              "        `last modified: ${\n",
              "            file.lastModifiedDate ? file.lastModifiedDate.toLocaleDateString() :\n",
              "                                    'n/a'} - `));\n",
              "    const percent = span('0% done');\n",
              "    li.appendChild(percent);\n",
              "\n",
              "    outputElement.appendChild(li);\n",
              "\n",
              "    const fileDataPromise = new Promise((resolve) => {\n",
              "      const reader = new FileReader();\n",
              "      reader.onload = (e) => {\n",
              "        resolve(e.target.result);\n",
              "      };\n",
              "      reader.readAsArrayBuffer(file);\n",
              "    });\n",
              "    // Wait for the data to be ready.\n",
              "    let fileData = yield {\n",
              "      promise: fileDataPromise,\n",
              "      response: {\n",
              "        action: 'continue',\n",
              "      }\n",
              "    };\n",
              "\n",
              "    // Use a chunked sending to avoid message size limits. See b/62115660.\n",
              "    let position = 0;\n",
              "    do {\n",
              "      const length = Math.min(fileData.byteLength - position, MAX_PAYLOAD_SIZE);\n",
              "      const chunk = new Uint8Array(fileData, position, length);\n",
              "      position += length;\n",
              "\n",
              "      const base64 = btoa(String.fromCharCode.apply(null, chunk));\n",
              "      yield {\n",
              "        response: {\n",
              "          action: 'append',\n",
              "          file: file.name,\n",
              "          data: base64,\n",
              "        },\n",
              "      };\n",
              "\n",
              "      let percentDone = fileData.byteLength === 0 ?\n",
              "          100 :\n",
              "          Math.round((position / fileData.byteLength) * 100);\n",
              "      percent.textContent = `${percentDone}% done`;\n",
              "\n",
              "    } while (position < fileData.byteLength);\n",
              "  }\n",
              "\n",
              "  // All done.\n",
              "  yield {\n",
              "    response: {\n",
              "      action: 'complete',\n",
              "    }\n",
              "  };\n",
              "}\n",
              "\n",
              "scope.google = scope.google || {};\n",
              "scope.google.colab = scope.google.colab || {};\n",
              "scope.google.colab._files = {\n",
              "  _uploadFiles,\n",
              "  _uploadFilesContinue,\n",
              "};\n",
              "})(self);\n",
              "</script> "
            ]
          },
          "metadata": {}
        },
        {
          "output_type": "stream",
          "name": "stdout",
          "text": [
            "Saving example.txt.txt to example.txt (1).txt\n",
            "Hello i am charmi andharia\n"
          ]
        }
      ]
    },
    {
      "cell_type": "code",
      "source": [
        " # 8. Use a lambda function in Python to sort a list of tuples based on the second element of each tuple.\n",
        "tuple1 = [(1, 3), (4, 1), (2, 2), (5, 0)]\n",
        "sorted_data = sorted(tuple1, key=lambda x: x[1])\n",
        "print(\"Sorted List:\", sorted_data)"
      ],
      "metadata": {
        "colab": {
          "base_uri": "https://localhost:8080/"
        },
        "id": "Vu4hvPr4ckc-",
        "outputId": "7518504e-98c3-4da5-c2e6-42bfb73f88ce"
      },
      "execution_count": 16,
      "outputs": [
        {
          "output_type": "stream",
          "name": "stdout",
          "text": [
            "Sorted List: [(5, 0), (4, 1), (2, 2), (1, 3)]\n"
          ]
        }
      ]
    },
    {
      "cell_type": "code",
      "source": [
        "#9. Write a Python program that uses `map()` to convert a list of temperatures from Celsius to Fahrenheit.\n",
        "celsius = [0, 20, 37, 100]\n",
        "fahrenheit = list(map(lambda c: (c * 9/5) + 32, celsius))\n",
        "print(\"Fahrenheit:\", fahrenheit)"
      ],
      "metadata": {
        "colab": {
          "base_uri": "https://localhost:8080/"
        },
        "id": "ifCIpAa9nMbb",
        "outputId": "c6788ea7-a9a5-4b2e-eee7-010ea55cc862"
      },
      "execution_count": 17,
      "outputs": [
        {
          "output_type": "stream",
          "name": "stdout",
          "text": [
            "Fahrenheit: [32.0, 68.0, 98.6, 212.0]\n"
          ]
        }
      ]
    },
    {
      "cell_type": "code",
      "source": [
        "#  10. Create a Python program that uses `filter()` to remove all the vowels from a given string.\n",
        "def remove_vowels(input_str):\n",
        "    vowels = 'aeiouAEIOU'\n",
        "    res= (filter(lambda ch: ch not in vowels, input_str))\n",
        "    print(\"Without vowels:\", end=' ')\n",
        "    for ch in res:\n",
        "        print(ch, end='')\n",
        "text = \"Hello, Python World!\"\n",
        "remove_vowels(text)"
      ],
      "metadata": {
        "colab": {
          "base_uri": "https://localhost:8080/"
        },
        "id": "CljxyZ0qpP5d",
        "outputId": "3bf3c8f3-7b1f-412d-dc9a-34233da29e57"
      },
      "execution_count": 19,
      "outputs": [
        {
          "output_type": "stream",
          "name": "stdout",
          "text": [
            "Without vowels: Hll, Pythn Wrld!"
          ]
        }
      ]
    },
    {
      "cell_type": "code",
      "source": [
        "# 11) Imagine an accounting routine used in a book shop. It works on a list with sublists, which look like this:\n",
        "#Write a Python program, which returns a list with 2-tuples. Each tuple consists of the order number and the product of the price per item and the quantity. The product should be increased by 10,- € if the value of the order is smaller than 100,00 €.Write a Python program using lambda a\n",
        "orders = [\n",
        "    [34587, \"Learning Python, Mark Lutz\", 4, 40.95],\n",
        "    [98762, \"Programming Python, Mark Lutz\", 5, 56.80],\n",
        "    [77226, \"Head First Python, Paul Barry\", 3, 32.95],\n",
        "    [88112, \"Einführung in Python3, Bernd Klein\", 3, 24.99]\n",
        "]\n",
        "result = list(map(lambda order: (order[0], order[2] * order[3] if order[2] * order[3] >= 100 else order[2] * order[3] + 10), orders))\n",
        "print(result)"
      ],
      "metadata": {
        "colab": {
          "base_uri": "https://localhost:8080/"
        },
        "id": "CMvoaRgmr6TV",
        "outputId": "769737ef-c932-485c-af51-b2f35a08d84b"
      },
      "execution_count": 21,
      "outputs": [
        {
          "output_type": "stream",
          "name": "stdout",
          "text": [
            "[(34587, 163.8), (98762, 284.0), (77226, 108.85000000000001), (88112, 84.97)]\n"
          ]
        }
      ]
    }
  ]
}